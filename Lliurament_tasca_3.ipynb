{
 "cells": [
  {
   "cell_type": "markdown",
   "metadata": {},
   "source": [
    "## Lliurament tasca 3: Estructura de control\n",
    "\n",
    "### Exercici 1: \n",
    "\n",
    "**L'exercici consisteix a crear un programa que et classifiqui una variable numèrica en funció de l’escala Suspès/Aprovat/Notable/Excel·lent.**"
   ]
  },
  {
   "cell_type": "code",
   "execution_count": 1,
   "metadata": {},
   "outputs": [
    {
     "name": "stdout",
     "output_type": "stream",
     "text": [
      "Nota no vàlida.\n",
      "Suspès\n",
      "Notable\n",
      "Nota no vàlida.\n"
     ]
    }
   ],
   "source": [
    "def posar_nota(nota_num):\n",
    "    if nota_num < 0 or nota_num > 10:\n",
    "        return \"Nota no vàlida.\"\n",
    "    elif nota_num < 5:\n",
    "        return \"Suspès\"\n",
    "    elif nota_num < 7:\n",
    "        return \"Aprovat\"\n",
    "    elif nota_num < 9:\n",
    "        return \"Notable\"\n",
    "    elif nota_num <= 10:\n",
    "        return \"Excel·lent\"\n",
    "    \n",
    "# Exemples d'ús\n",
    "print(posar_nota(-1))\n",
    "print(posar_nota(0))\n",
    "print(posar_nota(8))\n",
    "print(posar_nota(11))"
   ]
  },
  {
   "cell_type": "markdown",
   "metadata": {},
   "source": [
    "### Exercici 2:\n",
    "\n",
    "**Utilitzant el següent tutorial [Programiz: Python Input, Output and Import](https://www.programiz.com/python-programming/input-output-import) crea un programa que et pregunti dos números. T’ha de mostrar un missatge dient si el primer és més gran, el segon és més gran o són iguals.**"
   ]
  },
  {
   "cell_type": "code",
   "execution_count": 2,
   "metadata": {},
   "outputs": [],
   "source": [
    "# Definim primer una funció que ens ajudarà a saber si l'input es vàlid.\n",
    "\n",
    "def is_num(variable):\n",
    "    \"\"\"Comprova que l'argument sigui un número\"\"\"\n",
    "    try:\n",
    "        numero = float(variable)\n",
    "    except:\n",
    "        print(f\"{variable} no és un número vàlid\")\n",
    "        return False\n",
    "    else:\n",
    "        return True"
   ]
  },
  {
   "cell_type": "code",
   "execution_count": 3,
   "metadata": {},
   "outputs": [
    {
     "name": "stdout",
     "output_type": "stream",
     "text": [
      "Escriu dos nombres i et diré quin és més gran\n",
      "Primer número: 3\n",
      "Segon número: 3.3\n",
      "El segon número és més gran.\n"
     ]
    }
   ],
   "source": [
    "print(\"Escriu dos nombres i et diré quin és més gran\")\n",
    "primer_num = input(\"Primer número: \")\n",
    "segon_num = input(\"Segon número: \")\n",
    "\n",
    "if (is_num(primer_num) and is_num(segon_num)):\n",
    "    if primer_num == segon_num:\n",
    "        print(\"Els números són iguals.\")\n",
    "    elif primer_num > segon_num:\n",
    "        print(\"El primer número és més gran.\")\n",
    "    else:\n",
    "        print(\"El segon número és més gran.\")"
   ]
  },
  {
   "cell_type": "markdown",
   "metadata": {},
   "source": [
    "### Exercici 3:\n",
    "\n",
    "**Crea un programa que et pregunti el teu nom, i et demani un número. Si el número és 0, hauria de mostrar un missatge d’error. En cas contrari, hauria de mostrar el nom repetit tants cops com indiqui el número. Per exemple, “Joan Joan Joan”.**"
   ]
  },
  {
   "cell_type": "code",
   "execution_count": 4,
   "metadata": {},
   "outputs": [
    {
     "name": "stdout",
     "output_type": "stream",
     "text": [
      "Quin és el teu nom? Elahi\n",
      "Quants cops repeteixo el teu nom? 3\n",
      "Elahi\n",
      "Elahi\n",
      "Elahi\n"
     ]
    }
   ],
   "source": [
    "nom_usuari = input(\"Quin és el teu nom? \")\n",
    "num_repeticions = int(input(\"Quants cops repeteixo el teu nom? \"))\n",
    "\n",
    "if num_repeticions < 0:\n",
    "    print(f\"No puc repetir el teu nom {num_repeticions} cops.\")\n",
    "else:\n",
    "    for repeticio in range(num_repeticions):\n",
    "        print(nom_usuari)"
   ]
  },
  {
   "cell_type": "markdown",
   "metadata": {},
   "source": [
    "### Exercici 4:\n",
    "\n",
    "**Crea un programa que donada una llista qualsevol, et digui si es simètrica o no. Si ho és, que et digui quants elements té.**"
   ]
  },
  {
   "cell_type": "code",
   "execution_count": 5,
   "metadata": {},
   "outputs": [
    {
     "name": "stdout",
     "output_type": "stream",
     "text": [
      "La llista és simètrica i té 3 elements.\n",
      "La llista és simètrica i té 4 elements.\n",
      "La llista no és simètrica\n"
     ]
    }
   ],
   "source": [
    "def es_simetrica(llista):\n",
    "    \"\"\"\n",
    "    Donada una llista, imprimeix si es simètrica i\n",
    "    imprimeix un número d'elements si ho es.\n",
    "    \"\"\"\n",
    "    llista_reves = llista[::-1]\n",
    "    if llista != llista_reves:\n",
    "        print(\"La llista no és simètrica\")\n",
    "    else:\n",
    "        print(f\"La llista és simètrica i té {len(llista)} elements.\")\n",
    "        \n",
    "es_simetrica([0,1,0])\n",
    "es_simetrica([2,3,3,2])\n",
    "es_simetrica([1,2,3])"
   ]
  },
  {
   "cell_type": "markdown",
   "metadata": {},
   "source": [
    "### Exercici 5:\n",
    "\n",
    "**Crea un programa que donada una llista, et digui quants números coincideixen amb la seva posició. Per exemple [3,4,2,0,2,3,6] el 2 i el 6 coincideixen.**"
   ]
  },
  {
   "cell_type": "code",
   "execution_count": 6,
   "metadata": {},
   "outputs": [
    {
     "name": "stdout",
     "output_type": "stream",
     "text": [
      "El número 2 coincideix amb la seva posició a la llista!\n",
      "El número 6 coincideix amb la seva posició a la llista!\n",
      "[2, 6]\n"
     ]
    }
   ],
   "source": [
    "def num_igual_pos(llista):\n",
    "    \"\"\"\n",
    "    Donada una llista, torna una llista de números \n",
    "    que coincideixen amb la seva posició.\n",
    "    \"\"\"\n",
    "    llista_coincident = []\n",
    "    for num in llista:\n",
    "        if num == llista[num] and (num not in llista_coincident):\n",
    "            print(f\"El número {num} coincideix amb la seva posició a la llista!\")\n",
    "            llista_coincident.append(num)\n",
    "    return llista_coincident\n",
    "\n",
    "print(num_igual_pos([3,4,2,0,2,3,6]))"
   ]
  }
 ],
 "metadata": {
  "kernelspec": {
   "display_name": "Python 3",
   "language": "python",
   "name": "python3"
  },
  "language_info": {
   "codemirror_mode": {
    "name": "ipython",
    "version": 3
   },
   "file_extension": ".py",
   "mimetype": "text/x-python",
   "name": "python",
   "nbconvert_exporter": "python",
   "pygments_lexer": "ipython3",
   "version": "3.8.5"
  }
 },
 "nbformat": 4,
 "nbformat_minor": 4
}
